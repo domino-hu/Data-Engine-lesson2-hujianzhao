{
 "cells": [
  {
   "cell_type": "code",
   "execution_count": 61,
   "metadata": {},
   "outputs": [
    {
     "name": "stderr",
     "output_type": "stream",
     "text": [
      "D:\\Users\\Domino\\Anaconda3\\lib\\site-packages\\bs4\\__init__.py:146: UserWarning: You provided Unicode markup but also provided a value for from_encoding. Your from_encoding will be ignored.\n",
      "  warnings.warn(\"You provided Unicode markup but also provided a value for from_encoding. Your from_encoding will be ignored.\")\n"
     ]
    }
   ],
   "source": [
    "#先准备工具\n",
    "import requests\n",
    "import bs4\n",
    "from bs4 import BeautifulSoup\n",
    "import pandas as pd\n",
    "\n",
    "#请求URL\n",
    "def get_page_content(request_url):\n",
    "#得到页面内容\n",
    "    headers={'user-agent':'Mozilla/5.0 (Windows NT 10.0;Win64;X64) AppleWebKit/537.36 (KHTML, like Gecko) Chrome/83.0.4103.106 Safari/537.36'}\n",
    "\n",
    "    html=requests.get(request_url,headers=headers,timeout=10)\n",
    "    content=html.text\n",
    "    #通过content创建BeautifulSoup对象\n",
    "    soup=BeautifulSoup(content,'html.parser',from_encoding='utf-8')\n",
    "    return soup\n",
    "\n",
    "def analysis(soup):\n",
    "    temp=soup.find('div',class_='tslb_b')\n",
    "    #创建DataFrame\n",
    "    title=['id','投诉品牌','投诉车系','投诉车型','问题简述','典型问题','投诉时间','投诉状态']\n",
    "    df=pd.DataFrame(columns=title)\n",
    "    if isinstance(temp,bs4.element.Tag):  \n",
    "        tr_list=temp.find_all('tr')\n",
    "        for tr in tr_list:\n",
    "            tem={}\n",
    "            td_list=tr.find_all('td')\n",
    "            #给各个字段赋值\n",
    "            if len(td_list)>0:\n",
    "                for i in range(len(td_list)):\n",
    "                    tem[str(title[i])]=str((td_list[i].text))\n",
    "                df=df.append(tem,ignore_index=True)\n",
    "    return df\n",
    "\n",
    "#df=analysis(soup)\n",
    "#print(df)   \n",
    "page_num=10\n",
    "base_url= 'http://www.12365auto.com/zlts/0-0-0-0-0-0_0-0-0-0-0-0-0-'\n",
    "\n",
    "for i in range(page_num):\n",
    "    request_url=base_url+str(i+1)+'.shtml'\n",
    "    soup=get_page_content(request_url)\n",
    "    result=result.append(analysis(soup))\n",
    "\n",
    "result.to_csv('car_complain.csv',encoding='GBK')\n",
    "#print(result)\n"
   ]
  },
  {
   "cell_type": "code",
   "execution_count": null,
   "metadata": {
    "collapsed": true
   },
   "outputs": [],
   "source": []
  }
 ],
 "metadata": {
  "kernelspec": {
   "display_name": "Python 3",
   "language": "python",
   "name": "python3"
  },
  "language_info": {
   "codemirror_mode": {
    "name": "ipython",
    "version": 3
   },
   "file_extension": ".py",
   "mimetype": "text/x-python",
   "name": "python",
   "nbconvert_exporter": "python",
   "pygments_lexer": "ipython3",
   "version": "3.6.1"
  }
 },
 "nbformat": 4,
 "nbformat_minor": 2
}
